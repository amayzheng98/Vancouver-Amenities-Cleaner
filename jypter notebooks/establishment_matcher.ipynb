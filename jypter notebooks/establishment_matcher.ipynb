{
 "metadata": {
  "language_info": {
   "codemirror_mode": {
    "name": "ipython",
    "version": 3
   },
   "file_extension": ".py",
   "mimetype": "text/x-python",
   "name": "python",
   "nbconvert_exporter": "python",
   "pygments_lexer": "ipython3",
   "version": "3.8.5-final"
  },
  "orig_nbformat": 2,
  "kernelspec": {
   "name": "python38532bit9ab0dbab465c4ba9832e80b375b7c888",
   "display_name": "Python 3.8.5 32-bit"
  }
 },
 "nbformat": 4,
 "nbformat_minor": 2,
 "cells": [
  {
   "cell_type": "code",
   "execution_count": 1,
   "metadata": {},
   "outputs": [],
   "source": [
    "import pandas as pd\n",
    "import numpy as np\n",
    "import difflib\n"
   ]
  },
  {
   "cell_type": "code",
   "execution_count": 2,
   "metadata": {},
   "outputs": [
    {
     "output_type": "execute_result",
     "data": {
      "text/plain": [
       "       licence number                        establishment name  \\\n",
       "0              307941        Noodlebox/Meat and Bread/Good Taco   \n",
       "1              304406               \"Cuckoo\" Trattoria Pizzeria   \n",
       "2              300413          #12 (Vancouver) Service Batalion   \n",
       "3              184229                             #9 RESTAURANT   \n",
       "4              307820                          'Lil Chef Bistro   \n",
       "...               ...                                       ...   \n",
       "10219          302172  the Bear, the Fish, the Root & the Berry   \n",
       "10220          306325                                   the FSH   \n",
       "10221          117194                               their there   \n",
       "10222          307034                               twig & buoy   \n",
       "10223          306100                     vinAmite Cellars Inc.   \n",
       "\n",
       "       location address line 1 location address line 2 location address city  \\\n",
       "0        2455 West Railway Ave                     NaN            ABBOTSFORD   \n",
       "1             2310 Alberni Hwy                     NaN                COOMBS   \n",
       "2                5500 No. 4 Rd                     NaN              RICHMOND   \n",
       "3            812  5300 NO 3 RD                     NaN              RICHMOND   \n",
       "4            40365 Tantalus Rd                     NaN              SQUAMISH   \n",
       "...                        ...                     ...                   ...   \n",
       "10219  1200 Rancher Creek Road                     NaN               OSOYOOS   \n",
       "10220  101 - 1405 St. Paul St.                     NaN               KELOWNA   \n",
       "10221           2042 4th Ave W                     NaN             VANCOUVER   \n",
       "10222        1-321 FERNWOOD RD                     NaN    SALT SPRING ISLAND   \n",
       "10223          5381 Highway 97                     NaN                OLIVER   \n",
       "\n",
       "      location postal code    licence type licence sub type  capacity  \n",
       "0                   V2S2E3    Food Primary              NaN     100.0  \n",
       "1                   V0R1M0    Food Primary              NaN     666.0  \n",
       "2                   V6X3L5  Liquor Primary              NaN     210.0  \n",
       "3                   V6X2X9    Food Primary              NaN     189.0  \n",
       "4                   V0N1T0    Food Primary              NaN      35.0  \n",
       "...                    ...             ...              ...       ...  \n",
       "10219               V0H1V6    Food Primary              NaN    2786.0  \n",
       "10220               V1Y2E4    Food Primary              NaN      88.0  \n",
       "10221               V6J1M9    Food Primary              NaN      76.0  \n",
       "10222               V8K1C3    Food Primary              NaN      78.0  \n",
       "10223               V0H1T1    Manufacturer           Winery       0.0  \n",
       "\n",
       "[10224 rows x 9 columns]"
      ],
      "text/html": "<div>\n<style scoped>\n    .dataframe tbody tr th:only-of-type {\n        vertical-align: middle;\n    }\n\n    .dataframe tbody tr th {\n        vertical-align: top;\n    }\n\n    .dataframe thead th {\n        text-align: right;\n    }\n</style>\n<table border=\"1\" class=\"dataframe\">\n  <thead>\n    <tr style=\"text-align: right;\">\n      <th></th>\n      <th>licence number</th>\n      <th>establishment name</th>\n      <th>location address line 1</th>\n      <th>location address line 2</th>\n      <th>location address city</th>\n      <th>location postal code</th>\n      <th>licence type</th>\n      <th>licence sub type</th>\n      <th>capacity</th>\n    </tr>\n  </thead>\n  <tbody>\n    <tr>\n      <th>0</th>\n      <td>307941</td>\n      <td>Noodlebox/Meat and Bread/Good Taco</td>\n      <td>2455 West Railway Ave</td>\n      <td>NaN</td>\n      <td>ABBOTSFORD</td>\n      <td>V2S2E3</td>\n      <td>Food Primary</td>\n      <td>NaN</td>\n      <td>100.0</td>\n    </tr>\n    <tr>\n      <th>1</th>\n      <td>304406</td>\n      <td>\"Cuckoo\" Trattoria Pizzeria</td>\n      <td>2310 Alberni Hwy</td>\n      <td>NaN</td>\n      <td>COOMBS</td>\n      <td>V0R1M0</td>\n      <td>Food Primary</td>\n      <td>NaN</td>\n      <td>666.0</td>\n    </tr>\n    <tr>\n      <th>2</th>\n      <td>300413</td>\n      <td>#12 (Vancouver) Service Batalion</td>\n      <td>5500 No. 4 Rd</td>\n      <td>NaN</td>\n      <td>RICHMOND</td>\n      <td>V6X3L5</td>\n      <td>Liquor Primary</td>\n      <td>NaN</td>\n      <td>210.0</td>\n    </tr>\n    <tr>\n      <th>3</th>\n      <td>184229</td>\n      <td>#9 RESTAURANT</td>\n      <td>812  5300 NO 3 RD</td>\n      <td>NaN</td>\n      <td>RICHMOND</td>\n      <td>V6X2X9</td>\n      <td>Food Primary</td>\n      <td>NaN</td>\n      <td>189.0</td>\n    </tr>\n    <tr>\n      <th>4</th>\n      <td>307820</td>\n      <td>'Lil Chef Bistro</td>\n      <td>40365 Tantalus Rd</td>\n      <td>NaN</td>\n      <td>SQUAMISH</td>\n      <td>V0N1T0</td>\n      <td>Food Primary</td>\n      <td>NaN</td>\n      <td>35.0</td>\n    </tr>\n    <tr>\n      <th>...</th>\n      <td>...</td>\n      <td>...</td>\n      <td>...</td>\n      <td>...</td>\n      <td>...</td>\n      <td>...</td>\n      <td>...</td>\n      <td>...</td>\n      <td>...</td>\n    </tr>\n    <tr>\n      <th>10219</th>\n      <td>302172</td>\n      <td>the Bear, the Fish, the Root &amp; the Berry</td>\n      <td>1200 Rancher Creek Road</td>\n      <td>NaN</td>\n      <td>OSOYOOS</td>\n      <td>V0H1V6</td>\n      <td>Food Primary</td>\n      <td>NaN</td>\n      <td>2786.0</td>\n    </tr>\n    <tr>\n      <th>10220</th>\n      <td>306325</td>\n      <td>the FSH</td>\n      <td>101 - 1405 St. Paul St.</td>\n      <td>NaN</td>\n      <td>KELOWNA</td>\n      <td>V1Y2E4</td>\n      <td>Food Primary</td>\n      <td>NaN</td>\n      <td>88.0</td>\n    </tr>\n    <tr>\n      <th>10221</th>\n      <td>117194</td>\n      <td>their there</td>\n      <td>2042 4th Ave W</td>\n      <td>NaN</td>\n      <td>VANCOUVER</td>\n      <td>V6J1M9</td>\n      <td>Food Primary</td>\n      <td>NaN</td>\n      <td>76.0</td>\n    </tr>\n    <tr>\n      <th>10222</th>\n      <td>307034</td>\n      <td>twig &amp; buoy</td>\n      <td>1-321 FERNWOOD RD</td>\n      <td>NaN</td>\n      <td>SALT SPRING ISLAND</td>\n      <td>V8K1C3</td>\n      <td>Food Primary</td>\n      <td>NaN</td>\n      <td>78.0</td>\n    </tr>\n    <tr>\n      <th>10223</th>\n      <td>306100</td>\n      <td>vinAmite Cellars Inc.</td>\n      <td>5381 Highway 97</td>\n      <td>NaN</td>\n      <td>OLIVER</td>\n      <td>V0H1T1</td>\n      <td>Manufacturer</td>\n      <td>Winery</td>\n      <td>0.0</td>\n    </tr>\n  </tbody>\n</table>\n<p>10224 rows × 9 columns</p>\n</div>"
     },
     "metadata": {},
     "execution_count": 2
    }
   ],
   "source": [
    "names = pd.read_csv(\"bc_liquor_establishment_locations.csv\")\n",
    "names"
   ]
  },
  {
   "cell_type": "code",
   "execution_count": 3,
   "metadata": {},
   "outputs": [
    {
     "output_type": "execute_result",
     "data": {
      "text/plain": [
       "            lat         lon                      timestamp     amenity  \\\n",
       "0     49.185144 -123.130217  2019-09-13T13:57:04.000-07:00  restaurant   \n",
       "1     49.193752 -123.121261  2019-11-03T06:42:12.000-08:00        cafe   \n",
       "2     49.281603 -123.132898  2016-02-14T21:02:33.000-08:00         bar   \n",
       "3     49.260301 -123.096684  2018-07-28T05:32:51.000-07:00         pub   \n",
       "4     49.284169 -123.107343  2019-09-13T13:57:04.000-07:00         bar   \n",
       "...         ...         ...                            ...         ...   \n",
       "5080  49.059230 -122.492277  2019-01-19T14:23:56.000-08:00   fast_food   \n",
       "5081  49.230169 -123.004036  2018-04-22T05:38:38.000-07:00  restaurant   \n",
       "5082  49.249358 -122.867573  2020-06-08T18:27:04.000-07:00  restaurant   \n",
       "5083  49.272419 -123.134633  2020-02-27T21:56:22.000-08:00        cafe   \n",
       "5084  49.180830 -123.134178  2017-07-14T12:45:12.000-07:00   fast_food   \n",
       "\n",
       "                          name  \\\n",
       "0     0755 Restaurant & Lounge   \n",
       "1                    1029 Cafe   \n",
       "2                         1181   \n",
       "3                 12 Kings Pub   \n",
       "4      131 Water Kitchen & Bar   \n",
       "...                        ...   \n",
       "5080        strEATS Aldergrove   \n",
       "5081         trattoria Burnaby   \n",
       "5082                yoko sushi   \n",
       "5083                 à la mode   \n",
       "5084                       敘香園   \n",
       "\n",
       "                                                   tags  \n",
       "0     {'addr:housenumber': '3779', 'addr:street': 'S...  \n",
       "1                                                    {}  \n",
       "2     {'addr:housenumber': '1181', 'website': 'http:...  \n",
       "3     {'opening_hours': 'Su-Th 12:00-01:00; Fr-Sa 12...  \n",
       "4     {'addr:housenumber': '131', 'addr:street': 'Wa...  \n",
       "...                                                 ...  \n",
       "5080  {'addr:housenumber': '26426', 'website': 'http...  \n",
       "5081  {'cuisine': 'italian', 'name:en': 'trattoria B...  \n",
       "5082  {'addr:province': 'B.C.', 'addr:housenumber': ...  \n",
       "5083                                  {'indoor': 'yes'}  \n",
       "5084                                 {'name:en': '敘香園'}  \n",
       "\n",
       "[5085 rows x 6 columns]"
      ],
      "text/html": "<div>\n<style scoped>\n    .dataframe tbody tr th:only-of-type {\n        vertical-align: middle;\n    }\n\n    .dataframe tbody tr th {\n        vertical-align: top;\n    }\n\n    .dataframe thead th {\n        text-align: right;\n    }\n</style>\n<table border=\"1\" class=\"dataframe\">\n  <thead>\n    <tr style=\"text-align: right;\">\n      <th></th>\n      <th>lat</th>\n      <th>lon</th>\n      <th>timestamp</th>\n      <th>amenity</th>\n      <th>name</th>\n      <th>tags</th>\n    </tr>\n  </thead>\n  <tbody>\n    <tr>\n      <th>0</th>\n      <td>49.185144</td>\n      <td>-123.130217</td>\n      <td>2019-09-13T13:57:04.000-07:00</td>\n      <td>restaurant</td>\n      <td>0755 Restaurant &amp; Lounge</td>\n      <td>{'addr:housenumber': '3779', 'addr:street': 'S...</td>\n    </tr>\n    <tr>\n      <th>1</th>\n      <td>49.193752</td>\n      <td>-123.121261</td>\n      <td>2019-11-03T06:42:12.000-08:00</td>\n      <td>cafe</td>\n      <td>1029 Cafe</td>\n      <td>{}</td>\n    </tr>\n    <tr>\n      <th>2</th>\n      <td>49.281603</td>\n      <td>-123.132898</td>\n      <td>2016-02-14T21:02:33.000-08:00</td>\n      <td>bar</td>\n      <td>1181</td>\n      <td>{'addr:housenumber': '1181', 'website': 'http:...</td>\n    </tr>\n    <tr>\n      <th>3</th>\n      <td>49.260301</td>\n      <td>-123.096684</td>\n      <td>2018-07-28T05:32:51.000-07:00</td>\n      <td>pub</td>\n      <td>12 Kings Pub</td>\n      <td>{'opening_hours': 'Su-Th 12:00-01:00; Fr-Sa 12...</td>\n    </tr>\n    <tr>\n      <th>4</th>\n      <td>49.284169</td>\n      <td>-123.107343</td>\n      <td>2019-09-13T13:57:04.000-07:00</td>\n      <td>bar</td>\n      <td>131 Water Kitchen &amp; Bar</td>\n      <td>{'addr:housenumber': '131', 'addr:street': 'Wa...</td>\n    </tr>\n    <tr>\n      <th>...</th>\n      <td>...</td>\n      <td>...</td>\n      <td>...</td>\n      <td>...</td>\n      <td>...</td>\n      <td>...</td>\n    </tr>\n    <tr>\n      <th>5080</th>\n      <td>49.059230</td>\n      <td>-122.492277</td>\n      <td>2019-01-19T14:23:56.000-08:00</td>\n      <td>fast_food</td>\n      <td>strEATS Aldergrove</td>\n      <td>{'addr:housenumber': '26426', 'website': 'http...</td>\n    </tr>\n    <tr>\n      <th>5081</th>\n      <td>49.230169</td>\n      <td>-123.004036</td>\n      <td>2018-04-22T05:38:38.000-07:00</td>\n      <td>restaurant</td>\n      <td>trattoria Burnaby</td>\n      <td>{'cuisine': 'italian', 'name:en': 'trattoria B...</td>\n    </tr>\n    <tr>\n      <th>5082</th>\n      <td>49.249358</td>\n      <td>-122.867573</td>\n      <td>2020-06-08T18:27:04.000-07:00</td>\n      <td>restaurant</td>\n      <td>yoko sushi</td>\n      <td>{'addr:province': 'B.C.', 'addr:housenumber': ...</td>\n    </tr>\n    <tr>\n      <th>5083</th>\n      <td>49.272419</td>\n      <td>-123.134633</td>\n      <td>2020-02-27T21:56:22.000-08:00</td>\n      <td>cafe</td>\n      <td>à la mode</td>\n      <td>{'indoor': 'yes'}</td>\n    </tr>\n    <tr>\n      <th>5084</th>\n      <td>49.180830</td>\n      <td>-123.134178</td>\n      <td>2017-07-14T12:45:12.000-07:00</td>\n      <td>fast_food</td>\n      <td>敘香園</td>\n      <td>{'name:en': '敘香園'}</td>\n    </tr>\n  </tbody>\n</table>\n<p>5085 rows × 6 columns</p>\n</div>"
     },
     "metadata": {},
     "execution_count": 3
    }
   ],
   "source": [
    "amenities = pd.read_json(\"food-aminities-vancouver.json\", lines=True)\n",
    "amenities"
   ]
  },
  {
   "cell_type": "code",
   "execution_count": 4,
   "metadata": {},
   "outputs": [
    {
     "output_type": "execute_result",
     "data": {
      "text/plain": [
       "            lat         lon                      timestamp     amenity  \\\n",
       "0     49.185144 -123.130217  2019-09-13T13:57:04.000-07:00  restaurant   \n",
       "1     49.193752 -123.121261  2019-11-03T06:42:12.000-08:00        cafe   \n",
       "2     49.281603 -123.132898  2016-02-14T21:02:33.000-08:00         bar   \n",
       "3     49.260301 -123.096684  2018-07-28T05:32:51.000-07:00         pub   \n",
       "4     49.284169 -123.107343  2019-09-13T13:57:04.000-07:00         bar   \n",
       "...         ...         ...                            ...         ...   \n",
       "5080  49.059230 -122.492277  2019-01-19T14:23:56.000-08:00   fast_food   \n",
       "5081  49.230169 -123.004036  2018-04-22T05:38:38.000-07:00  restaurant   \n",
       "5082  49.249358 -122.867573  2020-06-08T18:27:04.000-07:00  restaurant   \n",
       "5083  49.272419 -123.134633  2020-02-27T21:56:22.000-08:00        cafe   \n",
       "5084  49.180830 -123.134178  2017-07-14T12:45:12.000-07:00   fast_food   \n",
       "\n",
       "                          name  \\\n",
       "0     0755 Restaurant & Lounge   \n",
       "1                    1029 Cafe   \n",
       "2                         1181   \n",
       "3                 12 Kings Pub   \n",
       "4      131 Water Kitchen & Bar   \n",
       "...                        ...   \n",
       "5080        strEATS Aldergrove   \n",
       "5081         trattoria Burnaby   \n",
       "5082                yoko sushi   \n",
       "5083                 à la mode   \n",
       "5084                       敘香園   \n",
       "\n",
       "                                                   tags  \\\n",
       "0     {'addr:housenumber': '3779', 'addr:street': 'S...   \n",
       "1                                                    {}   \n",
       "2     {'addr:housenumber': '1181', 'website': 'http:...   \n",
       "3     {'opening_hours': 'Su-Th 12:00-01:00; Fr-Sa 12...   \n",
       "4     {'addr:housenumber': '131', 'addr:street': 'Wa...   \n",
       "...                                                 ...   \n",
       "5080  {'addr:housenumber': '26426', 'website': 'http...   \n",
       "5081  {'cuisine': 'italian', 'name:en': 'trattoria B...   \n",
       "5082  {'addr:province': 'B.C.', 'addr:housenumber': ...   \n",
       "5083                                  {'indoor': 'yes'}   \n",
       "5084                                 {'name:en': '敘香園'}   \n",
       "\n",
       "                    closest_name  \n",
       "0     [0755 Restaurant & Lounge]  \n",
       "1                             []  \n",
       "2                         [1181]  \n",
       "3                             []  \n",
       "4         [Haven Kitchen & Bar ]  \n",
       "...                          ...  \n",
       "5080                          []  \n",
       "5081                          []  \n",
       "5082                [Yoko Sushi]  \n",
       "5083                          []  \n",
       "5084                          []  \n",
       "\n",
       "[5085 rows x 7 columns]"
      ],
      "text/html": "<div>\n<style scoped>\n    .dataframe tbody tr th:only-of-type {\n        vertical-align: middle;\n    }\n\n    .dataframe tbody tr th {\n        vertical-align: top;\n    }\n\n    .dataframe thead th {\n        text-align: right;\n    }\n</style>\n<table border=\"1\" class=\"dataframe\">\n  <thead>\n    <tr style=\"text-align: right;\">\n      <th></th>\n      <th>lat</th>\n      <th>lon</th>\n      <th>timestamp</th>\n      <th>amenity</th>\n      <th>name</th>\n      <th>tags</th>\n      <th>closest_name</th>\n    </tr>\n  </thead>\n  <tbody>\n    <tr>\n      <th>0</th>\n      <td>49.185144</td>\n      <td>-123.130217</td>\n      <td>2019-09-13T13:57:04.000-07:00</td>\n      <td>restaurant</td>\n      <td>0755 Restaurant &amp; Lounge</td>\n      <td>{'addr:housenumber': '3779', 'addr:street': 'S...</td>\n      <td>[0755 Restaurant &amp; Lounge]</td>\n    </tr>\n    <tr>\n      <th>1</th>\n      <td>49.193752</td>\n      <td>-123.121261</td>\n      <td>2019-11-03T06:42:12.000-08:00</td>\n      <td>cafe</td>\n      <td>1029 Cafe</td>\n      <td>{}</td>\n      <td>[]</td>\n    </tr>\n    <tr>\n      <th>2</th>\n      <td>49.281603</td>\n      <td>-123.132898</td>\n      <td>2016-02-14T21:02:33.000-08:00</td>\n      <td>bar</td>\n      <td>1181</td>\n      <td>{'addr:housenumber': '1181', 'website': 'http:...</td>\n      <td>[1181]</td>\n    </tr>\n    <tr>\n      <th>3</th>\n      <td>49.260301</td>\n      <td>-123.096684</td>\n      <td>2018-07-28T05:32:51.000-07:00</td>\n      <td>pub</td>\n      <td>12 Kings Pub</td>\n      <td>{'opening_hours': 'Su-Th 12:00-01:00; Fr-Sa 12...</td>\n      <td>[]</td>\n    </tr>\n    <tr>\n      <th>4</th>\n      <td>49.284169</td>\n      <td>-123.107343</td>\n      <td>2019-09-13T13:57:04.000-07:00</td>\n      <td>bar</td>\n      <td>131 Water Kitchen &amp; Bar</td>\n      <td>{'addr:housenumber': '131', 'addr:street': 'Wa...</td>\n      <td>[Haven Kitchen &amp; Bar ]</td>\n    </tr>\n    <tr>\n      <th>...</th>\n      <td>...</td>\n      <td>...</td>\n      <td>...</td>\n      <td>...</td>\n      <td>...</td>\n      <td>...</td>\n      <td>...</td>\n    </tr>\n    <tr>\n      <th>5080</th>\n      <td>49.059230</td>\n      <td>-122.492277</td>\n      <td>2019-01-19T14:23:56.000-08:00</td>\n      <td>fast_food</td>\n      <td>strEATS Aldergrove</td>\n      <td>{'addr:housenumber': '26426', 'website': 'http...</td>\n      <td>[]</td>\n    </tr>\n    <tr>\n      <th>5081</th>\n      <td>49.230169</td>\n      <td>-123.004036</td>\n      <td>2018-04-22T05:38:38.000-07:00</td>\n      <td>restaurant</td>\n      <td>trattoria Burnaby</td>\n      <td>{'cuisine': 'italian', 'name:en': 'trattoria B...</td>\n      <td>[]</td>\n    </tr>\n    <tr>\n      <th>5082</th>\n      <td>49.249358</td>\n      <td>-122.867573</td>\n      <td>2020-06-08T18:27:04.000-07:00</td>\n      <td>restaurant</td>\n      <td>yoko sushi</td>\n      <td>{'addr:province': 'B.C.', 'addr:housenumber': ...</td>\n      <td>[Yoko Sushi]</td>\n    </tr>\n    <tr>\n      <th>5083</th>\n      <td>49.272419</td>\n      <td>-123.134633</td>\n      <td>2020-02-27T21:56:22.000-08:00</td>\n      <td>cafe</td>\n      <td>à la mode</td>\n      <td>{'indoor': 'yes'}</td>\n      <td>[]</td>\n    </tr>\n    <tr>\n      <th>5084</th>\n      <td>49.180830</td>\n      <td>-123.134178</td>\n      <td>2017-07-14T12:45:12.000-07:00</td>\n      <td>fast_food</td>\n      <td>敘香園</td>\n      <td>{'name:en': '敘香園'}</td>\n      <td>[]</td>\n    </tr>\n  </tbody>\n</table>\n<p>5085 rows × 7 columns</p>\n</div>"
     },
     "metadata": {},
     "execution_count": 4
    }
   ],
   "source": [
    "amenities['closest_name'] = amenities['name'].apply(lambda title: difflib.get_close_matches(title, names['establishment name'].values, 1, .85))\n",
    "amenities"
   ]
  },
  {
   "cell_type": "code",
   "execution_count": 5,
   "metadata": {},
   "outputs": [
    {
     "output_type": "execute_result",
     "data": {
      "text/plain": [
       "            lat         lon                      timestamp     amenity  \\\n",
       "0     49.185144 -123.130217  2019-09-13T13:57:04.000-07:00  restaurant   \n",
       "2     49.281603 -123.132898  2016-02-14T21:02:33.000-08:00         bar   \n",
       "4     49.284169 -123.107343  2019-09-13T13:57:04.000-07:00         bar   \n",
       "5     49.256999 -123.127023  2019-05-04T04:43:01.000-07:00        cafe   \n",
       "9     49.284010 -123.113580  2015-10-17T02:29:04.000-07:00   fast_food   \n",
       "...         ...         ...                            ...         ...   \n",
       "5071  49.171467 -122.578285  2020-05-06T03:38:34.000-07:00        cafe   \n",
       "5072  49.326304 -123.143966  2020-05-29T04:38:32.000-07:00  restaurant   \n",
       "5074  49.049639 -122.290534  2019-08-07T01:30:54.000-07:00  restaurant   \n",
       "5077  49.231307 -122.893213  2012-04-09T00:03:55.000-07:00   fast_food   \n",
       "5082  49.249358 -122.867573  2020-06-08T18:27:04.000-07:00  restaurant   \n",
       "\n",
       "                              name  \\\n",
       "0         0755 Restaurant & Lounge   \n",
       "2                             1181   \n",
       "4          131 Water Kitchen & Bar   \n",
       "5                 16th Avenue Cafe   \n",
       "9                     2001 Flavors   \n",
       "...                            ...   \n",
       "5071  lelem' Arts & Cultureal Cafe   \n",
       "5072                    milestones   \n",
       "5074  nine downtown kitchen lounge   \n",
       "5077                        panago   \n",
       "5082                    yoko sushi   \n",
       "\n",
       "                                                   tags  \\\n",
       "0     {'addr:housenumber': '3779', 'addr:street': 'S...   \n",
       "2     {'addr:housenumber': '1181', 'website': 'http:...   \n",
       "4     {'addr:housenumber': '131', 'addr:street': 'Wa...   \n",
       "5     {'opening_hours': 'Mo-Fr 06:00-22:00; Sa-Su 07...   \n",
       "9     {'addr:housenumber': '595', 'addr:street': 'We...   \n",
       "...                                                 ...   \n",
       "5071  {'addr:province': 'BC', 'addr:housenumber': '2...   \n",
       "5072                            {'cuisine': 'regional'}   \n",
       "5074  {'addr:housenumber': '2625', 'website': 'https...   \n",
       "5077                               {'cuisine': 'pizza'}   \n",
       "5082  {'addr:province': 'B.C.', 'addr:housenumber': ...   \n",
       "\n",
       "                         closest_name  \n",
       "0            0755 Restaurant & Lounge  \n",
       "2                                1181  \n",
       "4                Haven Kitchen & Bar   \n",
       "5                   1st Avenue Tavern  \n",
       "9                            Flavours  \n",
       "...                               ...  \n",
       "5071     Lelum Arts and Cultural Cafe  \n",
       "5072                       Milestones  \n",
       "5074  nine. Downtown Kitchen & Lounge  \n",
       "5077                           Espana  \n",
       "5082                       Yoko Sushi  \n",
       "\n",
       "[3244 rows x 7 columns]"
      ],
      "text/html": "<div>\n<style scoped>\n    .dataframe tbody tr th:only-of-type {\n        vertical-align: middle;\n    }\n\n    .dataframe tbody tr th {\n        vertical-align: top;\n    }\n\n    .dataframe thead th {\n        text-align: right;\n    }\n</style>\n<table border=\"1\" class=\"dataframe\">\n  <thead>\n    <tr style=\"text-align: right;\">\n      <th></th>\n      <th>lat</th>\n      <th>lon</th>\n      <th>timestamp</th>\n      <th>amenity</th>\n      <th>name</th>\n      <th>tags</th>\n      <th>closest_name</th>\n    </tr>\n  </thead>\n  <tbody>\n    <tr>\n      <th>0</th>\n      <td>49.185144</td>\n      <td>-123.130217</td>\n      <td>2019-09-13T13:57:04.000-07:00</td>\n      <td>restaurant</td>\n      <td>0755 Restaurant &amp; Lounge</td>\n      <td>{'addr:housenumber': '3779', 'addr:street': 'S...</td>\n      <td>0755 Restaurant &amp; Lounge</td>\n    </tr>\n    <tr>\n      <th>2</th>\n      <td>49.281603</td>\n      <td>-123.132898</td>\n      <td>2016-02-14T21:02:33.000-08:00</td>\n      <td>bar</td>\n      <td>1181</td>\n      <td>{'addr:housenumber': '1181', 'website': 'http:...</td>\n      <td>1181</td>\n    </tr>\n    <tr>\n      <th>4</th>\n      <td>49.284169</td>\n      <td>-123.107343</td>\n      <td>2019-09-13T13:57:04.000-07:00</td>\n      <td>bar</td>\n      <td>131 Water Kitchen &amp; Bar</td>\n      <td>{'addr:housenumber': '131', 'addr:street': 'Wa...</td>\n      <td>Haven Kitchen &amp; Bar</td>\n    </tr>\n    <tr>\n      <th>5</th>\n      <td>49.256999</td>\n      <td>-123.127023</td>\n      <td>2019-05-04T04:43:01.000-07:00</td>\n      <td>cafe</td>\n      <td>16th Avenue Cafe</td>\n      <td>{'opening_hours': 'Mo-Fr 06:00-22:00; Sa-Su 07...</td>\n      <td>1st Avenue Tavern</td>\n    </tr>\n    <tr>\n      <th>9</th>\n      <td>49.284010</td>\n      <td>-123.113580</td>\n      <td>2015-10-17T02:29:04.000-07:00</td>\n      <td>fast_food</td>\n      <td>2001 Flavors</td>\n      <td>{'addr:housenumber': '595', 'addr:street': 'We...</td>\n      <td>Flavours</td>\n    </tr>\n    <tr>\n      <th>...</th>\n      <td>...</td>\n      <td>...</td>\n      <td>...</td>\n      <td>...</td>\n      <td>...</td>\n      <td>...</td>\n      <td>...</td>\n    </tr>\n    <tr>\n      <th>5071</th>\n      <td>49.171467</td>\n      <td>-122.578285</td>\n      <td>2020-05-06T03:38:34.000-07:00</td>\n      <td>cafe</td>\n      <td>lelem' Arts &amp; Cultureal Cafe</td>\n      <td>{'addr:province': 'BC', 'addr:housenumber': '2...</td>\n      <td>Lelum Arts and Cultural Cafe</td>\n    </tr>\n    <tr>\n      <th>5072</th>\n      <td>49.326304</td>\n      <td>-123.143966</td>\n      <td>2020-05-29T04:38:32.000-07:00</td>\n      <td>restaurant</td>\n      <td>milestones</td>\n      <td>{'cuisine': 'regional'}</td>\n      <td>Milestones</td>\n    </tr>\n    <tr>\n      <th>5074</th>\n      <td>49.049639</td>\n      <td>-122.290534</td>\n      <td>2019-08-07T01:30:54.000-07:00</td>\n      <td>restaurant</td>\n      <td>nine downtown kitchen lounge</td>\n      <td>{'addr:housenumber': '2625', 'website': 'https...</td>\n      <td>nine. Downtown Kitchen &amp; Lounge</td>\n    </tr>\n    <tr>\n      <th>5077</th>\n      <td>49.231307</td>\n      <td>-122.893213</td>\n      <td>2012-04-09T00:03:55.000-07:00</td>\n      <td>fast_food</td>\n      <td>panago</td>\n      <td>{'cuisine': 'pizza'}</td>\n      <td>Espana</td>\n    </tr>\n    <tr>\n      <th>5082</th>\n      <td>49.249358</td>\n      <td>-122.867573</td>\n      <td>2020-06-08T18:27:04.000-07:00</td>\n      <td>restaurant</td>\n      <td>yoko sushi</td>\n      <td>{'addr:province': 'B.C.', 'addr:housenumber': ...</td>\n      <td>Yoko Sushi</td>\n    </tr>\n  </tbody>\n</table>\n<p>3244 rows × 7 columns</p>\n</div>"
     },
     "metadata": {},
     "execution_count": 5
    }
   ],
   "source": [
    "amenities['closest_name'] = amenities['closest_name'].apply(lambda title: ''.join(title)) \n",
    "alco = amenities[amenities['closest_name'] != '']\n",
    "alco\n"
   ]
  },
  {
   "cell_type": "code",
   "execution_count": 6,
   "metadata": {},
   "outputs": [],
   "source": [
    "alco.to_json('alcohol-licensed-vancouver.json', orient='records', lines=True)"
   ]
  },
  {
   "cell_type": "code",
   "execution_count": 7,
   "metadata": {},
   "outputs": [
    {
     "output_type": "execute_result",
     "data": {
      "text/plain": [
       "            lat         lon                      timestamp     amenity  \\\n",
       "354   49.186086 -122.847925  2019-06-25T02:51:54.000-07:00         bar   \n",
       "3507  49.037590 -122.334929  2019-11-27T22:30:47.000-08:00         bar   \n",
       "2683  49.252992 -122.733207  2019-11-03T17:31:53.000-08:00         bar   \n",
       "976   49.189893 -122.803647  2017-03-21T05:02:53.000-07:00         bar   \n",
       "542   49.228459 -123.004995  2017-03-22T04:32:40.000-07:00         bar   \n",
       "...         ...         ...                            ...         ...   \n",
       "1260  49.264856 -123.108608  2019-09-13T13:57:05.000-07:00  restaurant   \n",
       "1259  49.134029 -122.324010  2019-05-19T16:24:30.000-07:00  restaurant   \n",
       "1253  49.275919 -123.121378  2019-09-13T13:57:07.000-07:00  restaurant   \n",
       "1291  49.272272 -123.069320  2019-09-02T22:08:25.000-07:00  restaurant   \n",
       "1371  49.169773 -122.578163  2019-09-13T13:57:07.000-07:00  restaurant   \n",
       "\n",
       "                           name  \\\n",
       "354                  Big Orange   \n",
       "3507    Signature Sports Bistro   \n",
       "2683      Northpaw Tasting Room   \n",
       "976                    Cupcakes   \n",
       "542               Bubble Waffle   \n",
       "...                         ...   \n",
       "1260  Emelle's Westside Kitchen   \n",
       "1259           Embers BBQ House   \n",
       "1253     Elisa Wood-Fired Grill   \n",
       "1291                     Famoso   \n",
       "1371                  Fortitude   \n",
       "\n",
       "                                                   tags closest_name  \n",
       "354                           {'name:en': 'Big Orange'}               \n",
       "3507                                                 {}               \n",
       "2683  {'addr:housenumber': '570', 'website': 'https:...               \n",
       "976                             {'name:en': 'Cupcakes'}               \n",
       "542   {'addr:housenumber': '2111', 'name:en': 'Bubbl...               \n",
       "...                                                 ...          ...  \n",
       "1260  {'addr:housenumber': '177', 'website': 'https:...               \n",
       "1259  {'cuisine': 'barbecue', 'addr:housenumber': '3...               \n",
       "1253  {'addr:housenumber': '1109', 'website': 'https...               \n",
       "1291  {'addr:housenumber': '1380', 'website': 'https...               \n",
       "1371  {'addr:housenumber': '9220', 'website': 'https...               \n",
       "\n",
       "[1841 rows x 7 columns]"
      ],
      "text/html": "<div>\n<style scoped>\n    .dataframe tbody tr th:only-of-type {\n        vertical-align: middle;\n    }\n\n    .dataframe tbody tr th {\n        vertical-align: top;\n    }\n\n    .dataframe thead th {\n        text-align: right;\n    }\n</style>\n<table border=\"1\" class=\"dataframe\">\n  <thead>\n    <tr style=\"text-align: right;\">\n      <th></th>\n      <th>lat</th>\n      <th>lon</th>\n      <th>timestamp</th>\n      <th>amenity</th>\n      <th>name</th>\n      <th>tags</th>\n      <th>closest_name</th>\n    </tr>\n  </thead>\n  <tbody>\n    <tr>\n      <th>354</th>\n      <td>49.186086</td>\n      <td>-122.847925</td>\n      <td>2019-06-25T02:51:54.000-07:00</td>\n      <td>bar</td>\n      <td>Big Orange</td>\n      <td>{'name:en': 'Big Orange'}</td>\n      <td></td>\n    </tr>\n    <tr>\n      <th>3507</th>\n      <td>49.037590</td>\n      <td>-122.334929</td>\n      <td>2019-11-27T22:30:47.000-08:00</td>\n      <td>bar</td>\n      <td>Signature Sports Bistro</td>\n      <td>{}</td>\n      <td></td>\n    </tr>\n    <tr>\n      <th>2683</th>\n      <td>49.252992</td>\n      <td>-122.733207</td>\n      <td>2019-11-03T17:31:53.000-08:00</td>\n      <td>bar</td>\n      <td>Northpaw Tasting Room</td>\n      <td>{'addr:housenumber': '570', 'website': 'https:...</td>\n      <td></td>\n    </tr>\n    <tr>\n      <th>976</th>\n      <td>49.189893</td>\n      <td>-122.803647</td>\n      <td>2017-03-21T05:02:53.000-07:00</td>\n      <td>bar</td>\n      <td>Cupcakes</td>\n      <td>{'name:en': 'Cupcakes'}</td>\n      <td></td>\n    </tr>\n    <tr>\n      <th>542</th>\n      <td>49.228459</td>\n      <td>-123.004995</td>\n      <td>2017-03-22T04:32:40.000-07:00</td>\n      <td>bar</td>\n      <td>Bubble Waffle</td>\n      <td>{'addr:housenumber': '2111', 'name:en': 'Bubbl...</td>\n      <td></td>\n    </tr>\n    <tr>\n      <th>...</th>\n      <td>...</td>\n      <td>...</td>\n      <td>...</td>\n      <td>...</td>\n      <td>...</td>\n      <td>...</td>\n      <td>...</td>\n    </tr>\n    <tr>\n      <th>1260</th>\n      <td>49.264856</td>\n      <td>-123.108608</td>\n      <td>2019-09-13T13:57:05.000-07:00</td>\n      <td>restaurant</td>\n      <td>Emelle's Westside Kitchen</td>\n      <td>{'addr:housenumber': '177', 'website': 'https:...</td>\n      <td></td>\n    </tr>\n    <tr>\n      <th>1259</th>\n      <td>49.134029</td>\n      <td>-122.324010</td>\n      <td>2019-05-19T16:24:30.000-07:00</td>\n      <td>restaurant</td>\n      <td>Embers BBQ House</td>\n      <td>{'cuisine': 'barbecue', 'addr:housenumber': '3...</td>\n      <td></td>\n    </tr>\n    <tr>\n      <th>1253</th>\n      <td>49.275919</td>\n      <td>-123.121378</td>\n      <td>2019-09-13T13:57:07.000-07:00</td>\n      <td>restaurant</td>\n      <td>Elisa Wood-Fired Grill</td>\n      <td>{'addr:housenumber': '1109', 'website': 'https...</td>\n      <td></td>\n    </tr>\n    <tr>\n      <th>1291</th>\n      <td>49.272272</td>\n      <td>-123.069320</td>\n      <td>2019-09-02T22:08:25.000-07:00</td>\n      <td>restaurant</td>\n      <td>Famoso</td>\n      <td>{'addr:housenumber': '1380', 'website': 'https...</td>\n      <td></td>\n    </tr>\n    <tr>\n      <th>1371</th>\n      <td>49.169773</td>\n      <td>-122.578163</td>\n      <td>2019-09-13T13:57:07.000-07:00</td>\n      <td>restaurant</td>\n      <td>Fortitude</td>\n      <td>{'addr:housenumber': '9220', 'website': 'https...</td>\n      <td></td>\n    </tr>\n  </tbody>\n</table>\n<p>1841 rows × 7 columns</p>\n</div>"
     },
     "metadata": {},
     "execution_count": 7
    }
   ],
   "source": [
    "non_alco = amenities[amenities['closest_name'] == '']\n",
    "non_alco = non_alco.sort_values(by=['amenity'])\n",
    "non_alco"
   ]
  },
  {
   "cell_type": "code",
   "execution_count": 8,
   "metadata": {},
   "outputs": [],
   "source": [
    "non_alco.to_json('no-alcohol-licensed-vancouver.json', orient='records', lines=True)"
   ]
  },
  {
   "cell_type": "code",
   "execution_count": 9,
   "metadata": {},
   "outputs": [],
   "source": [
    "licenseless_bar_pub = non_alco[(non_alco['amenity'] == 'pub') | (non_alco['amenity'] == 'bar')]\n",
    "licenseless_bar_pub.to_json('licenseless-bar-pub-vancouver.json', orient='records', lines=True)"
   ]
  },
  {
   "cell_type": "code",
   "execution_count": null,
   "metadata": {},
   "outputs": [],
   "source": []
  }
 ]
}